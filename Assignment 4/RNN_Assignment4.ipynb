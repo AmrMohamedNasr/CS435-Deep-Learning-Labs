{
  "nbformat": 4,
  "nbformat_minor": 0,
  "metadata": {
    "colab": {
      "name": "RNN_Assignment4.ipynb",
      "version": "0.3.2",
      "provenance": [],
      "collapsed_sections": []
    },
    "kernelspec": {
      "name": "python3",
      "display_name": "Python 3"
    },
    "accelerator": "GPU"
  },
  "cells": [
    {
      "metadata": {
        "id": "YPbfIpgMBEj3",
        "colab_type": "text"
      },
      "cell_type": "markdown",
      "source": [
        "# Assignment 4\n",
        "# Sequences In Deep Learning"
      ]
    },
    {
      "metadata": {
        "id": "ARpgqIxuBUDX",
        "colab_type": "text"
      },
      "cell_type": "markdown",
      "source": [
        "## RNN utils"
      ]
    },
    {
      "metadata": {
        "id": "mDVc33qKBDvZ",
        "colab_type": "code",
        "colab": {}
      },
      "cell_type": "code",
      "source": [
        "import numpy as np\n",
        "\n",
        "def softmax(x):\n",
        "    e_x = np.exp(x - np.max(x))\n",
        "    return e_x / e_x.sum(axis=0)\n",
        "\n",
        "\n",
        "def sigmoid(x):\n",
        "    return 1 / (1 + np.exp(-x))\n",
        "\n",
        "\n",
        "def initialize_adam(parameters) :\n",
        "    \"\"\"\n",
        "    Initializes v and s as two python dictionaries with:\n",
        "                - keys: \"dW1\", \"db1\", ..., \"dWL\", \"dbL\" \n",
        "                - values: numpy arrays of zeros of the same shape as the corresponding gradients/parameters.\n",
        "    \n",
        "    Arguments:\n",
        "    parameters -- python dictionary containing your parameters.\n",
        "                    parameters[\"W\" + str(l)] = Wl\n",
        "                    parameters[\"b\" + str(l)] = bl\n",
        "    \n",
        "    Returns: \n",
        "    v -- python dictionary that will contain the exponentially weighted average of the gradient.\n",
        "                    v[\"dW\" + str(l)] = ...\n",
        "                    v[\"db\" + str(l)] = ...\n",
        "    s -- python dictionary that will contain the exponentially weighted average of the squared gradient.\n",
        "                    s[\"dW\" + str(l)] = ...\n",
        "                    s[\"db\" + str(l)] = ...\n",
        "\n",
        "    \"\"\"\n",
        "    \n",
        "    L = len(parameters) // 2 # number of layers in the neural networks\n",
        "    v = {}\n",
        "    s = {}\n",
        "    \n",
        "    # Initialize v, s. Input: \"parameters\". Outputs: \"v, s\".\n",
        "    for l in range(L):\n",
        "    ### START CODE HERE ### (approx. 4 lines)\n",
        "        v[\"dW\" + str(l+1)] = np.zeros(parameters[\"W\" + str(l+1)].shape)\n",
        "        v[\"db\" + str(l+1)] = np.zeros(parameters[\"b\" + str(l+1)].shape)\n",
        "        s[\"dW\" + str(l+1)] = np.zeros(parameters[\"W\" + str(l+1)].shape)\n",
        "        s[\"db\" + str(l+1)] = np.zeros(parameters[\"b\" + str(l+1)].shape)\n",
        "    ### END CODE HERE ###\n",
        "    \n",
        "    return v, s\n",
        "\n",
        "\n",
        "def update_parameters_with_adam(parameters, grads, v, s, t, learning_rate = 0.01,\n",
        "                                beta1 = 0.9, beta2 = 0.999,  epsilon = 1e-8):\n",
        "    \"\"\"\n",
        "    Update parameters using Adam\n",
        "    \n",
        "    Arguments:\n",
        "    parameters -- python dictionary containing your parameters:\n",
        "                    parameters['W' + str(l)] = Wl\n",
        "                    parameters['b' + str(l)] = bl\n",
        "    grads -- python dictionary containing your gradients for each parameters:\n",
        "                    grads['dW' + str(l)] = dWl\n",
        "                    grads['db' + str(l)] = dbl\n",
        "    v -- Adam variable, moving average of the first gradient, python dictionary\n",
        "    s -- Adam variable, moving average of the squared gradient, python dictionary\n",
        "    learning_rate -- the learning rate, scalar.\n",
        "    beta1 -- Exponential decay hyperparameter for the first moment estimates \n",
        "    beta2 -- Exponential decay hyperparameter for the second moment estimates \n",
        "    epsilon -- hyperparameter preventing division by zero in Adam updates\n",
        "\n",
        "    Returns:\n",
        "    parameters -- python dictionary containing your updated parameters \n",
        "    v -- Adam variable, moving average of the first gradient, python dictionary\n",
        "    s -- Adam variable, moving average of the squared gradient, python dictionary\n",
        "    \"\"\"\n",
        "    \n",
        "    L = len(parameters) // 2                 # number of layers in the neural networks\n",
        "    v_corrected = {}                         # Initializing first moment estimate, python dictionary\n",
        "    s_corrected = {}                         # Initializing second moment estimate, python dictionary\n",
        "    \n",
        "    # Perform Adam update on all parameters\n",
        "    for l in range(L):\n",
        "        # Moving average of the gradients. Inputs: \"v, grads, beta1\". Output: \"v\".\n",
        "        ### START CODE HERE ### (approx. 2 lines)\n",
        "        v[\"dW\" + str(l+1)] = beta1 * v[\"dW\" + str(l+1)] + (1 - beta1) * grads[\"dW\" + str(l+1)] \n",
        "        v[\"db\" + str(l+1)] = beta1 * v[\"db\" + str(l+1)] + (1 - beta1) * grads[\"db\" + str(l+1)] \n",
        "        ### END CODE HERE ###\n",
        "\n",
        "        # Compute bias-corrected first moment estimate. Inputs: \"v, beta1, t\". Output: \"v_corrected\".\n",
        "        ### START CODE HERE ### (approx. 2 lines)\n",
        "        v_corrected[\"dW\" + str(l+1)] = v[\"dW\" + str(l+1)] / (1 - beta1**t)\n",
        "        v_corrected[\"db\" + str(l+1)] = v[\"db\" + str(l+1)] / (1 - beta1**t)\n",
        "        ### END CODE HERE ###\n",
        "\n",
        "        # Moving average of the squared gradients. Inputs: \"s, grads, beta2\". Output: \"s\".\n",
        "        ### START CODE HERE ### (approx. 2 lines)\n",
        "        s[\"dW\" + str(l+1)] = beta2 * s[\"dW\" + str(l+1)] + (1 - beta2) * (grads[\"dW\" + str(l+1)] ** 2)\n",
        "        s[\"db\" + str(l+1)] = beta2 * s[\"db\" + str(l+1)] + (1 - beta2) * (grads[\"db\" + str(l+1)] ** 2)\n",
        "        ### END CODE HERE ###\n",
        "\n",
        "        # Compute bias-corrected second raw moment estimate. Inputs: \"s, beta2, t\". Output: \"s_corrected\".\n",
        "        ### START CODE HERE ### (approx. 2 lines)\n",
        "        s_corrected[\"dW\" + str(l+1)] = s[\"dW\" + str(l+1)] / (1 - beta2 ** t)\n",
        "        s_corrected[\"db\" + str(l+1)] = s[\"db\" + str(l+1)] / (1 - beta2 ** t)\n",
        "        ### END CODE HERE ###\n",
        "\n",
        "        # Update parameters. Inputs: \"parameters, learning_rate, v_corrected, s_corrected, epsilon\". Output: \"parameters\".\n",
        "        ### START CODE HERE ### (approx. 2 lines)\n",
        "        parameters[\"W\" + str(l+1)] = parameters[\"W\" + str(l+1)] - learning_rate * v_corrected[\"dW\" + str(l+1)] / np.sqrt(s_corrected[\"dW\" + str(l+1)] + epsilon)\n",
        "        parameters[\"b\" + str(l+1)] = parameters[\"b\" + str(l+1)] - learning_rate * v_corrected[\"db\" + str(l+1)] / np.sqrt(s_corrected[\"db\" + str(l+1)] + epsilon)\n",
        "        ### END CODE HERE ###\n",
        "\n",
        "    return parameters, v, s"
      ],
      "execution_count": 0,
      "outputs": []
    },
    {
      "metadata": {
        "id": "YVBjyb97IZmf",
        "colab_type": "text"
      },
      "cell_type": "markdown",
      "source": [
        "## RNN Forward"
      ]
    },
    {
      "metadata": {
        "id": "N46WMjm3EIAf",
        "colab_type": "code",
        "colab": {}
      },
      "cell_type": "code",
      "source": [
        "def rnn_cell_forward(xt, a_prev, parameters):\n",
        "    \"\"\"\n",
        "    Implements a single forward step of the RNN-cell as described in Figure (2)\n",
        "\n",
        "    Arguments:\n",
        "    xt -- your input data at timestep \"t\", numpy array of shape (n_x, m).\n",
        "    a_prev -- Hidden state at timestep \"t-1\", numpy array of shape (n_a, m)\n",
        "    parameters -- python dictionary containing:\n",
        "                        Wax -- Weight matrix multiplying the input, numpy array of shape (n_a, n_x)\n",
        "                        Waa -- Weight matrix multiplying the hidden state, numpy array of shape (n_a, n_a)\n",
        "                        Wya -- Weight matrix relating the hidden-state to the output, numpy array of shape (n_y, n_a)\n",
        "                        ba --  Bias, numpy array of shape (n_a, 1)\n",
        "                        by -- Bias relating the hidden-state to the output, numpy array of shape (n_y, 1)\n",
        "    Returns:\n",
        "    a_next -- next hidden state, of shape (n_a, m)\n",
        "    yt_pred -- prediction at timestep \"t\", numpy array of shape (n_y, m)\n",
        "    cache -- tuple of values needed for the backward pass, contains (a_next, a_prev, xt, parameters)\n",
        "    \"\"\"\n",
        "    \n",
        "    # Retrieve parameters from \"parameters\"\n",
        "    Wax = parameters[\"Wax\"]\n",
        "    Waa = parameters[\"Waa\"]\n",
        "    Wya = parameters[\"Wya\"]\n",
        "    ba = parameters[\"ba\"]\n",
        "    by = parameters[\"by\"]\n",
        "    \n",
        "    ### START CODE HERE ### \n",
        "    # compute next activation state using the formula given above\n",
        "    a_next = np.tanh(Wax.dot(xt) + Waa.dot(a_prev) + ba)\n",
        "    # compute output of the current cell using the formula given above\n",
        "    yt_pred = softmax(Wya.dot(a_next) + by)\n",
        "    ### END CODE HERE ###\n",
        "    \n",
        "    # store values you need for backward propagation in cache\n",
        "    cache = (a_next, a_prev, xt, parameters)\n",
        "    \n",
        "    return a_next, yt_pred, cache"
      ],
      "execution_count": 0,
      "outputs": []
    },
    {
      "metadata": {
        "id": "Xv5S3t1XBTXh",
        "colab_type": "code",
        "outputId": "fb0d4777-afc6-4b41-8a44-e05498e90fb2",
        "colab": {
          "base_uri": "https://localhost:8080/",
          "height": 125
        }
      },
      "cell_type": "code",
      "source": [
        "np.random.seed(1)\n",
        "xt = np.random.randn(3,10)\n",
        "a_prev = np.random.randn(5,10)\n",
        "Waa = np.random.randn(5,5)\n",
        "Wax = np.random.randn(5,3)\n",
        "Wya = np.random.randn(2,5)\n",
        "ba = np.random.randn(5,1)\n",
        "by = np.random.randn(2,1)\n",
        "parameters = {\"Waa\": Waa, \"Wax\": Wax, \"Wya\": Wya, \"ba\": ba, \"by\": by}\n",
        "\n",
        "a_next, yt_pred, cache = rnn_cell_forward(xt, a_prev, parameters)\n",
        "print(\"a_next[4] = \", a_next[4])\n",
        "print(\"a_next.shape = \", a_next.shape)\n",
        "print(\"yt_pred[1] =\", yt_pred[1])\n",
        "print(\"yt_pred.shape = \", yt_pred.shape)"
      ],
      "execution_count": 60,
      "outputs": [
        {
          "output_type": "stream",
          "text": [
            "a_next[4] =  [ 0.59584544  0.18141802  0.61311866  0.99808218  0.85016201  0.99980978\n",
            " -0.18887155  0.99815551  0.6531151   0.82872037]\n",
            "a_next.shape =  (5, 10)\n",
            "yt_pred[1] = [0.9888161  0.01682021 0.21140899 0.36817467 0.98988387 0.88945212\n",
            " 0.36920224 0.9966312  0.9982559  0.17746526]\n",
            "yt_pred.shape =  (2, 10)\n"
          ],
          "name": "stdout"
        }
      ]
    },
    {
      "metadata": {
        "id": "UAjJyIi1BrMM",
        "colab_type": "code",
        "colab": {}
      },
      "cell_type": "code",
      "source": [
        "def rnn_forward(x, a0, parameters):\n",
        "    \"\"\"\n",
        "    Implement the forward propagation of the recurrent neural network described in Figure (3).\n",
        "\n",
        "    Arguments:\n",
        "    x -- Input data for every time-step, of shape (n_x, m, T_x).\n",
        "    a0 -- Initial hidden state, of shape (n_a, m)\n",
        "    parameters -- python dictionary containing:\n",
        "                        Waa -- Weight matrix multiplying the hidden state, numpy array of shape (n_a, n_a)\n",
        "                        Wax -- Weight matrix multiplying the input, numpy array of shape (n_a, n_x)\n",
        "                        Wya -- Weight matrix relating the hidden-state to the output, numpy array of shape (n_y, n_a)\n",
        "                        ba --  Bias numpy array of shape (n_a, 1)\n",
        "                        by -- Bias relating the hidden-state to the output, numpy array of shape (n_y, 1)\n",
        "\n",
        "    Returns:\n",
        "    a -- Hidden states for every time-step, numpy array of shape (n_a, m, T_x)\n",
        "    y_pred -- Predictions for every time-step, numpy array of shape (n_y, m, T_x)\n",
        "    caches -- tuple of values needed for the backward pass, contains (list of caches, x)\n",
        "    \"\"\"\n",
        "    \n",
        "    # Initialize \"caches\" which will contain the list of all caches\n",
        "    caches = []\n",
        "    \n",
        "    # Retrieve dimensions from shapes of x and Wy\n",
        "    n_x, m, T_x = x.shape\n",
        "    n_y, n_a = parameters[\"Wya\"].shape\n",
        "    \n",
        "    ### START CODE HERE ###\n",
        "    \n",
        "    # initialize \"a\" and \"y\" with zeros\n",
        "    a = np.zeros((n_a, m, T_x))\n",
        "    y_pred = np.zeros((n_y, m, T_x))\n",
        "    # Initialize a_next\n",
        "    a_next = a0\n",
        "    # loop over all time-steps\n",
        "    for t in range(T_x):\n",
        "        # Update next hidden state, compute the prediction, get the cache\n",
        "        a_next, y, cache = rnn_cell_forward(x[:, :, t], a_next, parameters)\n",
        "        # Save the value of the new \"next\" hidden state in a\n",
        "        a[:, :, t] = a_next\n",
        "        # Save the value of the prediction in y\n",
        "        y_pred[:, :, t] = y\n",
        "        # Append \"cache\" to \"caches\"\n",
        "        caches.append(cache)\n",
        "    ### END CODE HERE ###\n",
        "    \n",
        "    # store values needed for backward propagation in cache\n",
        "    caches = (caches, x)\n",
        "    \n",
        "    return a, y_pred, caches"
      ],
      "execution_count": 0,
      "outputs": []
    },
    {
      "metadata": {
        "id": "esoEo11TBYuy",
        "colab_type": "code",
        "outputId": "362c62f0-b89f-4d7d-dedb-a28654811bf9",
        "colab": {
          "base_uri": "https://localhost:8080/",
          "height": 125
        }
      },
      "cell_type": "code",
      "source": [
        "np.random.seed(1)\n",
        "x = np.random.randn(3,10,4)\n",
        "a0 = np.random.randn(5,10)\n",
        "Waa = np.random.randn(5,5)\n",
        "Wax = np.random.randn(5,3)\n",
        "Wya = np.random.randn(2,5)\n",
        "ba = np.random.randn(5,1)\n",
        "by = np.random.randn(2,1)\n",
        "parameters = {\"Waa\": Waa, \"Wax\": Wax, \"Wya\": Wya, \"ba\": ba, \"by\": by}\n",
        "\n",
        "a, y_pred, caches = rnn_forward(x, a0, parameters)\n",
        "print(\"a[4][1] = \", a[4][1])\n",
        "print(\"a.shape = \", a.shape)\n",
        "print(\"y_pred[1][3] =\", y_pred[1][3])\n",
        "print(\"y_pred.shape = \", y_pred.shape)\n",
        "print(\"caches[1][1][3] =\", caches[1][1][3])\n",
        "print(\"len(caches) = \", len(caches))"
      ],
      "execution_count": 62,
      "outputs": [
        {
          "output_type": "stream",
          "text": [
            "a[4][1] =  [-0.99999375  0.77911235 -0.99861469 -0.99833267]\n",
            "a.shape =  (5, 10, 4)\n",
            "y_pred[1][3] = [0.79560373 0.86224861 0.11118257 0.81515947]\n",
            "y_pred.shape =  (2, 10, 4)\n",
            "caches[1][1][3] = [-1.1425182  -0.34934272 -0.20889423  0.58662319]\n",
            "len(caches) =  2\n"
          ],
          "name": "stdout"
        }
      ]
    },
    {
      "metadata": {
        "id": "1sh0xbnwIili",
        "colab_type": "text"
      },
      "cell_type": "markdown",
      "source": [
        "## LSTM Forward"
      ]
    },
    {
      "metadata": {
        "id": "5WFvhLhOEND3",
        "colab_type": "code",
        "colab": {}
      },
      "cell_type": "code",
      "source": [
        "def lstm_cell_forward(xt, a_prev, c_prev, parameters):\n",
        "    \"\"\"\n",
        "    Implement a single forward step of the LSTM-cell as described in Figure (4)\n",
        "\n",
        "    Arguments:\n",
        "    xt -- your input data at timestep \"t\", numpy array of shape (n_x, m).\n",
        "    a_prev -- Hidden state at timestep \"t-1\", numpy array of shape (n_a, m)\n",
        "    c_prev -- Memory state at timestep \"t-1\", numpy array of shape (n_a, m)\n",
        "    parameters -- python dictionary containing:\n",
        "                        Wf -- Weight matrix of the forget gate, numpy array of shape (n_a, n_a + n_x)\n",
        "                        bf -- Bias of the forget gate, numpy array of shape (n_a, 1)\n",
        "                        Wi -- Weight matrix of the update gate, numpy array of shape (n_a, n_a + n_x)\n",
        "                        bi -- Bias of the update gate, numpy array of shape (n_a, 1)\n",
        "                        Wc -- Weight matrix of the first \"tanh\", numpy array of shape (n_a, n_a + n_x)\n",
        "                        bc -- Bias of the first \"tanh\", numpy array of shape (n_a, 1)\n",
        "                        Wo -- Weight matrix of the output gate, numpy array of shape (n_a, n_a + n_x)\n",
        "                        bo -- Bias of the output gate, numpy array of shape (n_a, 1)\n",
        "                        Wy -- Weight matrix relating the hidden-state to the output, numpy array of shape (n_y, n_a)\n",
        "                        by -- Bias relating the hidden-state to the output, numpy array of shape (n_y, 1)\n",
        "                        \n",
        "    Returns:\n",
        "    a_next -- next hidden state, of shape (n_a, m)\n",
        "    c_next -- next memory state, of shape (n_a, m)\n",
        "    yt_pred -- prediction at timestep \"t\", numpy array of shape (n_y, m)\n",
        "    cache -- tuple of values needed for the backward pass, contains (a_next, c_next, a_prev, c_prev, xt, parameters)\n",
        "    \n",
        "    Note: ft/it/ot stand for the forget/update/output gates, cct stands for the candidate value (c tilde),\n",
        "          c stands for the memory value\n",
        "    \"\"\"\n",
        "\n",
        "    # Retrieve parameters from \"parameters\"\n",
        "    Wf = parameters[\"Wf\"]\n",
        "    bf = parameters[\"bf\"]\n",
        "    Wi = parameters[\"Wi\"]\n",
        "    bi = parameters[\"bi\"]\n",
        "    Wc = parameters[\"Wc\"]\n",
        "    bc = parameters[\"bc\"]\n",
        "    Wo = parameters[\"Wo\"]\n",
        "    bo = parameters[\"bo\"]\n",
        "    Wy = parameters[\"Wy\"]\n",
        "    by = parameters[\"by\"]\n",
        "    \n",
        "    # Retrieve dimensions from shapes of xt and Wy\n",
        "    n_x, m = xt.shape\n",
        "    n_y, n_a = Wy.shape\n",
        "\n",
        "    ### START CODE HERE ###\n",
        "    # Concatenate a_prev and xt \n",
        "    concat = np.concatenate((a_prev, xt), axis = 0)\n",
        "    # Compute values for ft, it, cct, c_next, ot, a_next using the formulas given figure (4)\n",
        "    ft = sigmoid(Wf.dot(concat) + bf)\n",
        "    it = sigmoid(Wi.dot(concat) + bi)\n",
        "    cct = np.tanh(Wc.dot(concat) + bc)\n",
        "    c_next = ft * c_prev + it * cct\n",
        "    ot = sigmoid(Wo.dot(concat) + bo)\n",
        "    a_next = ot * np.tanh(c_next)\n",
        "    # Compute prediction of the LSTM cell \n",
        "    yt_pred = softmax(Wy.dot(a_next) + by)\n",
        "    ### END CODE HERE ###\n",
        "\n",
        "    # store values needed for backward propagation in cache\n",
        "    cache = (a_next, c_next, a_prev, c_prev, ft, it, cct, ot, xt, parameters)\n",
        "\n",
        "    return a_next, c_next, yt_pred, cache"
      ],
      "execution_count": 0,
      "outputs": []
    },
    {
      "metadata": {
        "id": "HptTdgD1Byfb",
        "colab_type": "code",
        "outputId": "7bebd8fb-763c-4d4c-c463-8ac0479ffac1",
        "colab": {
          "base_uri": "https://localhost:8080/",
          "height": 233
        }
      },
      "cell_type": "code",
      "source": [
        "np.random.seed(1)\n",
        "xt = np.random.randn(3,10)\n",
        "a_prev = np.random.randn(5,10)\n",
        "c_prev = np.random.randn(5,10)\n",
        "Wf = np.random.randn(5, 5+3)\n",
        "bf = np.random.randn(5,1)\n",
        "Wi = np.random.randn(5, 5+3)\n",
        "bi = np.random.randn(5,1)\n",
        "Wo = np.random.randn(5, 5+3)\n",
        "bo = np.random.randn(5,1)\n",
        "Wc = np.random.randn(5, 5+3)\n",
        "bc = np.random.randn(5,1)\n",
        "Wy = np.random.randn(2,5)\n",
        "by = np.random.randn(2,1)\n",
        "\n",
        "parameters = {\"Wf\": Wf, \"Wi\": Wi, \"Wo\": Wo, \"Wc\": Wc, \"Wy\": Wy, \"bf\": bf, \"bi\": bi, \"bo\": bo, \"bc\": bc, \"by\": by}\n",
        "\n",
        "a_next, c_next, yt, cache = lstm_cell_forward(xt, a_prev, c_prev, parameters)\n",
        "print(\"a_next[4] = \", a_next[4])\n",
        "print(\"a_next.shape = \", c_next.shape)\n",
        "print(\"c_next[2] = \", c_next[2])\n",
        "print(\"c_next.shape = \", c_next.shape)\n",
        "print(\"yt[1] =\", yt[1])\n",
        "print(\"yt.shape = \", yt.shape)\n",
        "print(\"cache[1][3] =\", cache[1][3])\n",
        "print(\"len(cache) = \", len(cache))"
      ],
      "execution_count": 64,
      "outputs": [
        {
          "output_type": "stream",
          "text": [
            "a_next[4] =  [-0.66408471  0.0036921   0.02088357  0.22834167 -0.85575339  0.00138482\n",
            "  0.76566531  0.34631421 -0.00215674  0.43827275]\n",
            "a_next.shape =  (5, 10)\n",
            "c_next[2] =  [ 0.63267805  1.00570849  0.35504474  0.20690913 -1.64566718  0.11832942\n",
            "  0.76449811 -0.0981561  -0.74348425 -0.26810932]\n",
            "c_next.shape =  (5, 10)\n",
            "yt[1] = [0.79913913 0.15986619 0.22412122 0.15606108 0.97057211 0.31146381\n",
            " 0.00943007 0.12666353 0.39380172 0.07828381]\n",
            "yt.shape =  (2, 10)\n",
            "cache[1][3] = [-0.16263996  1.03729328  0.72938082 -0.54101719  0.02752074 -0.30821874\n",
            "  0.07651101 -1.03752894  1.41219977 -0.37647422]\n",
            "len(cache) =  10\n"
          ],
          "name": "stdout"
        }
      ]
    },
    {
      "metadata": {
        "id": "uyZfitBvBylx",
        "colab_type": "code",
        "colab": {}
      },
      "cell_type": "code",
      "source": [
        "def lstm_forward(x, a0, parameters):\n",
        "    \"\"\"\n",
        "    Implement the forward propagation of the recurrent neural network using an LSTM-cell described in Figure (3).\n",
        "\n",
        "    Arguments:\n",
        "    x -- Input data for every time-step, of shape (n_x, m, T_x).\n",
        "    a0 -- Initial hidden state, of shape (n_a, m)\n",
        "    parameters -- python dictionary containing:\n",
        "                        Wf -- Weight matrix of the forget gate, numpy array of shape (n_a, n_a + n_x)\n",
        "                        bf -- Bias of the forget gate, numpy array of shape (n_a, 1)\n",
        "                        Wi -- Weight matrix of the update gate, numpy array of shape (n_a, n_a + n_x)\n",
        "                        bi -- Bias of the update gate, numpy array of shape (n_a, 1)\n",
        "                        Wc -- Weight matrix of the first \"tanh\", numpy array of shape (n_a, n_a + n_x)\n",
        "                        bc -- Bias of the first \"tanh\", numpy array of shape (n_a, 1)\n",
        "                        Wo -- Weight matrix of the output gate, numpy array of shape (n_a, n_a + n_x)\n",
        "                        bo -- Bias of the output gate, numpy array of shape (n_a, 1)\n",
        "                        Wy -- Weight matrix relating the hidden-state to the output, numpy array of shape (n_y, n_a)\n",
        "                        by -- Bias relating the hidden-state to the output, numpy array of shape (n_y, 1)\n",
        "                        \n",
        "    Returns:\n",
        "    a -- Hidden states for every time-step, numpy array of shape (n_a, m, T_x)\n",
        "    y -- Predictions for every time-step, numpy array of shape (n_y, m, T_x)\n",
        "    caches -- tuple of values needed for the backward pass, contains (list of all the caches, x)\n",
        "    \"\"\"\n",
        "\n",
        "    # Initialize \"caches\", which will track the list of all the caches\n",
        "    caches = []\n",
        "    \n",
        "    ### START CODE HERE ###\n",
        "    # Retrieve dimensions from shapes of x and Wy \n",
        "    n_x, m, T_x = x.shape\n",
        "    n_y, n_a = parameters[\"Wy\"].shape\n",
        "    # initialize \"a\", \"c\" and \"y\" with zeros\n",
        "    a = np.zeros((n_a, m, T_x))\n",
        "    c = np.zeros((n_a, m, T_x))\n",
        "    y = np.zeros((n_y, m, T_x))\n",
        "    # Initialize a_next and c_next\n",
        "    a_next = a0 \n",
        "    c_next = c[:, :, 0].copy()\n",
        "    # loop over all time-steps\n",
        "    for t in range(T_x):\n",
        "        # Update next hidden state, next memory state, compute the prediction, get the cache \n",
        "        a_next, c_next, yt_pred, cache = lstm_cell_forward(x[:,:,t], a_next, c_next, parameters)\n",
        "        # Save the value of the new \"next\" hidden state in a\n",
        "        a[:,:,t] = a_next\n",
        "        # Save the value of the prediction in y \n",
        "        y[:,:,t] = yt_pred\n",
        "        # Save the value of the next cell state \n",
        "        c[:,:,t] = c_next\n",
        "        # Append the cache into caches \n",
        "        caches.append(cache)\n",
        "    ### END CODE HERE ###\n",
        "    \n",
        "    # store values needed for backward propagation in cache\n",
        "    caches = (caches, x)\n",
        "\n",
        "    return a, y, c, caches"
      ],
      "execution_count": 0,
      "outputs": []
    },
    {
      "metadata": {
        "id": "4jROh1w_Byyi",
        "colab_type": "code",
        "outputId": "c4eb3291-d9c4-45d1-e0c7-d05be08853ce",
        "colab": {
          "base_uri": "https://localhost:8080/",
          "height": 161
        }
      },
      "cell_type": "code",
      "source": [
        "np.random.seed(1)\n",
        "x = np.random.randn(3,10,7)\n",
        "a0 = np.random.randn(5,10)\n",
        "Wf = np.random.randn(5, 5+3)\n",
        "bf = np.random.randn(5,1)\n",
        "Wi = np.random.randn(5, 5+3)\n",
        "bi = np.random.randn(5,1)\n",
        "Wo = np.random.randn(5, 5+3)\n",
        "bo = np.random.randn(5,1)\n",
        "Wc = np.random.randn(5, 5+3)\n",
        "bc = np.random.randn(5,1)\n",
        "Wy = np.random.randn(2,5)\n",
        "by = np.random.randn(2,1)\n",
        "\n",
        "parameters = {\"Wf\": Wf, \"Wi\": Wi, \"Wo\": Wo, \"Wc\": Wc, \"Wy\": Wy, \"bf\": bf, \"bi\": bi, \"bo\": bo, \"bc\": bc, \"by\": by}\n",
        "\n",
        "a, y, c, caches = lstm_forward(x, a0, parameters)\n",
        "print(\"a[4][3][6] = \", a[4][3][6])\n",
        "print(\"a.shape = \", a.shape)\n",
        "print(\"y[1][4][3] =\", y[1][4][3])\n",
        "print(\"y.shape = \", y.shape)\n",
        "print(\"caches[1][1[1]] =\", caches[1][1][1])\n",
        "print(\"c[1][2][1]\", c[1][2][1])\n",
        "print(\"len(caches) = \", len(caches))"
      ],
      "execution_count": 66,
      "outputs": [
        {
          "output_type": "stream",
          "text": [
            "a[4][3][6] =  0.17211776753291672\n",
            "a.shape =  (5, 10, 7)\n",
            "y[1][4][3] = 0.9508734618501101\n",
            "y.shape =  (2, 10, 7)\n",
            "caches[1][1[1]] = [ 0.82797464  0.23009474  0.76201118 -0.22232814 -0.20075807  0.18656139\n",
            "  0.41005165]\n",
            "c[1][2][1] -0.8555449167181981\n",
            "len(caches) =  2\n"
          ],
          "name": "stdout"
        }
      ]
    },
    {
      "metadata": {
        "id": "JadSxtC2I2tB",
        "colab_type": "text"
      },
      "cell_type": "markdown",
      "source": [
        "### GRU Forward"
      ]
    },
    {
      "metadata": {
        "id": "DdNuRW6hERjI",
        "colab_type": "code",
        "colab": {}
      },
      "cell_type": "code",
      "source": [
        "def gru_cell_forward(xt, c_prev, parameters):\n",
        "    \"\"\"\n",
        "    Implement a single forward step of the GRU-cell\n",
        "\n",
        "    Arguments:\n",
        "    xt -- your input data at timestep \"t\", numpy array of shape (n_x, m).\n",
        "    c_prev -- Memory state at timestep \"t-1\", numpy array of shape (n_a, m)\n",
        "    parameters -- python dictionary containing:\n",
        "                        Wu -- Weight matrix of the relevant gate, numpy array of shape (n_a, n_a + n_x)\n",
        "                        bu -- Bias of the relevant gate, numpy array of shape (n_a, 1)\n",
        "                        Wr -- Weight matrix of the reset gate, numpy array of shape (n_a, n_a + n_x)\n",
        "                        br -- Bias of the reset gate, numpy array of shape (n_a, 1)\n",
        "                        Wc -- Weight matrix of the first \"tanh\", numpy array of shape (n_a, n_a + n_x)\n",
        "                        bc -- Bias of the first \"tanh\", numpy array of shape (n_a, 1)\n",
        "                        Wy -- Weight matrix relating the hidden-state to the output, numpy array of shape (n_y, n_a)\n",
        "                        by -- Bias relating the hidden-state to the output, numpy array of shape (n_y, 1)\n",
        "                        \n",
        "    Returns:\n",
        "    c_next -- next memory state, of shape (n_a, m)\n",
        "    yt_pred -- prediction at timestep \"t\", numpy array of shape (n_y, m)\n",
        "    cache -- tuple of values needed for the backward pass, contains (a_next, c_next, a_prev, c_prev, xt, parameters)\n",
        "    \n",
        "    Note: ut/rt stand for the relevant/reset gates, cct stands for the candidate value (c tilde),\n",
        "          c stands for the memory value\n",
        "    \"\"\"\n",
        "\n",
        "    # Retrieve parameters from \"parameters\"\n",
        "    Wu = parameters[\"Wu\"]\n",
        "    bu = parameters[\"bu\"]\n",
        "    Wr = parameters[\"Wr\"]\n",
        "    br = parameters[\"br\"]\n",
        "    Wc = parameters[\"Wc\"]\n",
        "    bc = parameters[\"bc\"]\n",
        "    Wy = parameters[\"Wy\"]\n",
        "    by = parameters[\"by\"]\n",
        "    \n",
        "    # Retrieve dimensions from shapes of xt and Wy\n",
        "    n_x, m = xt.shape\n",
        "    n_y, n_a = Wy.shape\n",
        "\n",
        "    ### START CODE HERE ###\n",
        "    # Concatenate c_prev and xt \n",
        "    concat = np.concatenate((c_prev, xt), axis = 0)\n",
        "    # Compute values for ut, rt, cct, c_next, a_next\n",
        "    ut = sigmoid(Wu.dot(concat) + bu)\n",
        "    rt = sigmoid(Wr.dot(concat) + br)\n",
        "    cct = np.tanh(Wc.dot(np.concatenate((rt * c_prev, xt), axis = 0)) + bc)\n",
        "    c_next = ut * cct + (1 - ut) * c_prev\n",
        "    a_next = c_next\n",
        "    # Compute prediction of the GRU cell \n",
        "    yt_pred = softmax(Wy.dot(a_next) + by)\n",
        "    ### END CODE HERE ###\n",
        "    # store values needed for backward propagation in cache\n",
        "    cache = (a_next, c_next, c_prev, ut, rt, cct , xt, parameters)\n",
        "\n",
        "    return c_next, yt_pred, cache"
      ],
      "execution_count": 0,
      "outputs": []
    },
    {
      "metadata": {
        "id": "jIFIR83PB4tp",
        "colab_type": "code",
        "outputId": "340522c6-cd73-40c0-9359-e5c34c520489",
        "colab": {
          "base_uri": "https://localhost:8080/",
          "height": 179
        }
      },
      "cell_type": "code",
      "source": [
        "np.random.seed(1)\n",
        "xt = np.random.randn(3,10)\n",
        "c_prev = np.random.randn(5,10)\n",
        "Wu = np.random.randn(5, 5+3)\n",
        "bu = np.random.randn(5,1)\n",
        "Wr = np.random.randn(5, 5+3)\n",
        "br = np.random.randn(5,1)\n",
        "Wc = np.random.randn(5, 5+3)\n",
        "bc = np.random.randn(5,1)\n",
        "Wy = np.random.randn(2,5)\n",
        "by = np.random.randn(2,1)\n",
        "\n",
        "parameters = {\"Wu\": Wu, \"Wr\": Wr, \"Wc\": Wc, \"Wy\": Wy, \"bu\": bu, \"br\": br, \"bc\": bc, \"by\": by}\n",
        "\n",
        "c_next, yt, cache = gru_cell_forward(xt, c_prev, parameters)\n",
        "print(\"c_next[2] = \", c_next[2])\n",
        "print(\"c_next.shape = \", c_next.shape)\n",
        "print(\"yt[1] =\", yt[1])\n",
        "print(\"yt.shape = \", yt.shape)\n",
        "print(\"cache[1][3] =\", cache[1][3])\n",
        "print(\"len(cache) = \", len(cache))"
      ],
      "execution_count": 68,
      "outputs": [
        {
          "output_type": "stream",
          "text": [
            "c_next[2] =  [ 0.96835301 -0.88762039  0.62503132  0.01958295  0.97551784  0.38587312\n",
            "  0.88733595  0.24367956  0.82957926  0.92582788]\n",
            "c_next.shape =  (5, 10)\n",
            "yt[1] = [0.75531427 0.00261152 0.04392701 0.03915876 0.09527215 0.2514967\n",
            " 0.1331264  0.10993315 0.01768743 0.53323971]\n",
            "yt.shape =  (2, 10)\n",
            "cache[1][3] = [-0.45979987  0.95361345  0.44527489 -0.9784312   0.54871199 -0.97785524\n",
            "  0.92927724 -0.68982212  1.99551341 -0.49854442]\n",
            "len(cache) =  8\n"
          ],
          "name": "stdout"
        }
      ]
    },
    {
      "metadata": {
        "id": "KFz1JrrRB4_6",
        "colab_type": "code",
        "colab": {}
      },
      "cell_type": "code",
      "source": [
        "def gru_forward(x, c0, parameters):\n",
        "    \"\"\"\n",
        "    Implement the forward propagation of the recurrent neural network using an GRU-cell.\n",
        "\n",
        "    Arguments:\n",
        "    x -- Input data for every time-step, of shape (n_x, m, T_x).\n",
        "    c0 -- Initial hidden state, of shape (n_a, m)\n",
        "    parameters -- python dictionary containing:\n",
        "                        Wu -- Weight matrix of the relevant gate, numpy array of shape (n_a, n_a + n_x)\n",
        "                        bu -- Bias of the relevant gate, numpy array of shape (n_a, 1)\n",
        "                        Wr -- Weight matrix of the reset gate, numpy array of shape (n_a, n_a + n_x)\n",
        "                        br -- Bias of the reset gate, numpy array of shape (n_a, 1)\n",
        "                        Wc -- Weight matrix of the first \"tanh\", numpy array of shape (n_a, n_a + n_x)\n",
        "                        bc -- Bias of the first \"tanh\", numpy array of shape (n_a, 1)\n",
        "                        Wy -- Weight matrix relating the hidden-state to the output, numpy array of shape (n_y, n_a)\n",
        "                        by -- Bias relating the hidden-state to the output, numpy array of shape (n_y, 1)\n",
        "                        \n",
        "    Returns:\n",
        "    c -- Hidden states for every time-step, numpy array of shape (n_a, m, T_x)\n",
        "    y -- Predictions for every time-step, numpy array of shape (n_y, m, T_x)\n",
        "    caches -- tuple of values needed for the backward pass, contains (list of all the caches, x)\n",
        "    \"\"\"\n",
        "\n",
        "    # Initialize \"caches\", which will track the list of all the caches\n",
        "    caches = []\n",
        "    \n",
        "    ### START CODE HERE ###\n",
        "    # Retrieve dimensions from shapes of x and Wy \n",
        "    n_x, m, T_x = x.shape\n",
        "    n_y, n_a = parameters[\"Wy\"].shape\n",
        "    # initialize \"a\", \"c\" and \"y\" with zeros\n",
        "    c = np.zeros((n_a, m, T_x))\n",
        "    y = np.zeros((n_y, m, T_x))\n",
        "    # Initialize a_next and c_next\n",
        "    c_next = c0\n",
        "    # loop over all time-steps\n",
        "    for t in range(T_x):\n",
        "        # Update next hidden state, next memory state, compute the prediction, get the cache \n",
        "        c_next, yt_pred, cache = gru_cell_forward(x[:,:,t], c_next, parameters)\n",
        "        # Save the value of the prediction in y \n",
        "        y[:,:,t] = yt_pred\n",
        "        # Save the value of the next cell state \n",
        "        c[:,:,t] = c_next\n",
        "        # Append the cache into caches \n",
        "        caches.append(cache)\n",
        "    ### END CODE HERE ###\n",
        "    \n",
        "    # store values needed for backward propagation in cache\n",
        "    caches = (caches, x)\n",
        "\n",
        "    return y, c, caches"
      ],
      "execution_count": 0,
      "outputs": []
    },
    {
      "metadata": {
        "id": "ZssjjwyPB5Hx",
        "colab_type": "code",
        "outputId": "2454707b-71aa-45cd-91be-3ca525ef4ca8",
        "colab": {
          "base_uri": "https://localhost:8080/",
          "height": 125
        }
      },
      "cell_type": "code",
      "source": [
        "np.random.seed(1)\n",
        "x = np.random.randn(3,10,7)\n",
        "c0 = np.random.randn(5,10)\n",
        "Wu = np.random.randn(5, 5+3)\n",
        "bu = np.random.randn(5,1)\n",
        "Wr = np.random.randn(5, 5+3)\n",
        "br = np.random.randn(5,1)\n",
        "Wc = np.random.randn(5, 5+3)\n",
        "bc = np.random.randn(5,1)\n",
        "Wy = np.random.randn(2,5)\n",
        "by = np.random.randn(2,1)\n",
        "\n",
        "parameters = {\"Wr\": Wr, \"Wu\": Wu, \"Wc\": Wc, \"Wy\": Wy, \"br\": br, \"bu\": bu, \"bc\": bc, \"by\": by}\n",
        "\n",
        "y, c, caches = gru_forward(x, c0, parameters)\n",
        "print(\"y[1][4][3] =\", y[1][4][3])\n",
        "print(\"y.shape = \", y.shape)\n",
        "print(\"caches[1][1[1]] =\", caches[1][1][1])\n",
        "print(\"c[1][2][1]\", c[1][2][1])\n",
        "print(\"len(caches) = \", len(caches))"
      ],
      "execution_count": 70,
      "outputs": [
        {
          "output_type": "stream",
          "text": [
            "y[1][4][3] = 0.41095408633521757\n",
            "y.shape =  (2, 10, 7)\n",
            "caches[1][1[1]] = [ 0.82797464  0.23009474  0.76201118 -0.22232814 -0.20075807  0.18656139\n",
            "  0.41005165]\n",
            "c[1][2][1] 1.5179668926616001\n",
            "len(caches) =  2\n"
          ],
          "name": "stdout"
        }
      ]
    },
    {
      "metadata": {
        "id": "aDcSS1ZgJMox",
        "colab_type": "text"
      },
      "cell_type": "markdown",
      "source": [
        "## RNN Backward"
      ]
    },
    {
      "metadata": {
        "id": "gL7zU1AyEYmB",
        "colab_type": "code",
        "colab": {}
      },
      "cell_type": "code",
      "source": [
        "def rnn_cell_backward(da_next, cache):\n",
        "    \"\"\"\n",
        "    Implements the backward pass for the RNN-cell (single time-step).\n",
        "\n",
        "    Arguments:\n",
        "    da_next -- Gradient of loss with respect to next hidden state\n",
        "    cache -- python dictionary containing useful values (output of rnn_cell_forward())\n",
        "\n",
        "    Returns:\n",
        "    gradients -- python dictionary containing:\n",
        "                        dx -- Gradients of input data, of shape (n_x, m)\n",
        "                        da_prev -- Gradients of previous hidden state, of shape (n_a, m)\n",
        "                        dWax -- Gradients of input-to-hidden weights, of shape (n_a, n_x)\n",
        "                        dWaa -- Gradients of hidden-to-hidden weights, of shape (n_a, n_a)\n",
        "                        dba -- Gradients of bias vector, of shape (n_a, 1)\n",
        "    \"\"\"\n",
        "    \n",
        "    # Retrieve values from cache\n",
        "    (a_next, a_prev, xt, parameters) = cache\n",
        "    \n",
        "    # Retrieve values from parameters\n",
        "    Wax = parameters[\"Wax\"]\n",
        "    Waa = parameters[\"Waa\"]\n",
        "    Wya = parameters[\"Wya\"]\n",
        "    ba = parameters[\"ba\"]\n",
        "    by = parameters[\"by\"]\n",
        "\n",
        "    ### START CODE HERE ###\n",
        "   # compute the gradient of tanh with respect to a_next\n",
        "    dtanh = 1 - (a_next ** 2)\n",
        "    # compute the gradient of the loss with respect to Wax\n",
        "    dxt = np.dot(Wax.T, da_next * dtanh)\n",
        "    dWax = np.dot(da_next * dtanh, xt.T)\n",
        "\n",
        "    # compute the gradient with respect to Waa\n",
        "    da_prev = np.dot(Waa.T, da_next * dtanh)\n",
        "    dWaa = np.dot(da_next * dtanh, a_prev.T)\n",
        "\n",
        "    # compute the gradient with respect to b\n",
        "    dba = np.sum(dtanh * da_next, axis = 1).reshape((a_next.shape[0],1))\n",
        "\n",
        "    ### END CODE HERE ###\n",
        "    \n",
        "    # Store the gradients in a python dictionary\n",
        "    gradients = {\"dxt\": dxt, \"da_prev\": da_prev, \"dWax\": dWax, \"dWaa\": dWaa, \"dba\": dba}\n",
        "    \n",
        "    return gradients"
      ],
      "execution_count": 0,
      "outputs": []
    },
    {
      "metadata": {
        "id": "JOGhCc5WCT8d",
        "colab_type": "code",
        "outputId": "3257659e-fd2a-440f-8e53-5dd8d2c47fef",
        "colab": {
          "base_uri": "https://localhost:8080/",
          "height": 197
        }
      },
      "cell_type": "code",
      "source": [
        "np.random.seed(1)\n",
        "xt = np.random.randn(3,10)\n",
        "a_prev = np.random.randn(5,10)\n",
        "Wax = np.random.randn(5,3)\n",
        "Waa = np.random.randn(5,5)\n",
        "Wya = np.random.randn(2,5)\n",
        "b = np.random.randn(5,1)\n",
        "by = np.random.randn(2,1)\n",
        "parameters = {\"Wax\": Wax, \"Waa\": Waa, \"Wya\": Wya, \"ba\": ba, \"by\": by}\n",
        "\n",
        "a_next, yt, cache = rnn_cell_forward(xt, a_prev, parameters)\n",
        "\n",
        "da_next = np.random.randn(5,10)\n",
        "gradients = rnn_cell_backward(da_next, cache)\n",
        "print(\"gradients[\\\"dxt\\\"][1][2] =\", gradients[\"dxt\"][1][2])\n",
        "print(\"gradients[\\\"dxt\\\"].shape =\", gradients[\"dxt\"].shape)\n",
        "print(\"gradients[\\\"da_prev\\\"][2][3] =\", gradients[\"da_prev\"][2][3])\n",
        "print(\"gradients[\\\"da_prev\\\"].shape =\", gradients[\"da_prev\"].shape)\n",
        "print(\"gradients[\\\"dWax\\\"][3][1] =\", gradients[\"dWax\"][3][1])\n",
        "print(\"gradients[\\\"dWax\\\"].shape =\", gradients[\"dWax\"].shape)\n",
        "print(\"gradients[\\\"dWaa\\\"][1][2] =\", gradients[\"dWaa\"][1][2])\n",
        "print(\"gradients[\\\"dWaa\\\"].shape =\", gradients[\"dWaa\"].shape)\n",
        "print(\"gradients[\\\"dba\\\"][4] =\", gradients[\"dba\"][4])\n",
        "print(\"gradients[\\\"dba\\\"].shape =\", gradients[\"dba\"].shape)"
      ],
      "execution_count": 72,
      "outputs": [
        {
          "output_type": "stream",
          "text": [
            "gradients[\"dxt\"][1][2] = -0.4605641030588796\n",
            "gradients[\"dxt\"].shape = (3, 10)\n",
            "gradients[\"da_prev\"][2][3] = 0.08429686538067724\n",
            "gradients[\"da_prev\"].shape = (5, 10)\n",
            "gradients[\"dWax\"][3][1] = 0.39308187392193034\n",
            "gradients[\"dWax\"].shape = (5, 3)\n",
            "gradients[\"dWaa\"][1][2] = -0.28483955786960663\n",
            "gradients[\"dWaa\"].shape = (5, 5)\n",
            "gradients[\"dba\"][4] = [0.80517166]\n",
            "gradients[\"dba\"].shape = (5, 1)\n"
          ],
          "name": "stdout"
        }
      ]
    },
    {
      "metadata": {
        "id": "7PlXQ-O1CUFC",
        "colab_type": "code",
        "colab": {}
      },
      "cell_type": "code",
      "source": [
        "def rnn_backward(da, caches):\n",
        "    \"\"\"\n",
        "    Implement the backward pass for a RNN over an entire sequence of input data.\n",
        "\n",
        "    Arguments:\n",
        "    da -- Upstream gradients of all hidden states, of shape (n_a, m, T_x)\n",
        "    caches -- tuple containing information from the forward pass (rnn_forward)\n",
        "    \n",
        "    Returns:\n",
        "    gradients -- python dictionary containing:\n",
        "                        dx -- Gradient w.r.t. the input data, numpy-array of shape (n_x, m, T_x)\n",
        "                        da0 -- Gradient w.r.t the initial hidden state, numpy-array of shape (n_a, m)\n",
        "                        dWax -- Gradient w.r.t the input's weight matrix, numpy-array of shape (n_a, n_x)\n",
        "                        dWaa -- Gradient w.r.t the hidden state's weight matrix, numpy-arrayof shape (n_a, n_a)\n",
        "                        dba -- Gradient w.r.t the bias, of shape (n_a, 1)\n",
        "    \"\"\"\n",
        "        \n",
        "    ### START CODE HERE ###\n",
        "    \n",
        "    # Retrieve values from the first cache (t=1) of caches\n",
        "    (caches, x) = caches\n",
        "    (a1, a0, x1, parameters) = caches[0]\n",
        "    \n",
        "    # Retrieve dimensions from da's and x1's shapes \n",
        "    n_a, m, T_x = da.shape\n",
        "    n_x, m = x1.shape\n",
        "    \n",
        "    # initialize the gradients with the right sizes \n",
        "    dx = np.zeros(x.shape)\n",
        "    dWax = np.zeros(parameters['Wax'].shape)\n",
        "    dWaa = np.zeros(parameters['Waa'].shape)\n",
        "    dba = np.zeros(parameters['ba'].shape)\n",
        "    da0 = np.zeros(a0.shape)\n",
        "    da_prevt = np.zeros(a0.shape)\n",
        "    \n",
        "    # Loop through all the time steps\n",
        "    for t in reversed(range(T_x)):\n",
        "        # Compute gradients at time step t. Choose wisely the \"da_next\" and the \"cache\" to use in the backward propagation step.\n",
        "        gradients =  rnn_cell_backward(da[:,:,t] + da_prevt, caches[t])\n",
        "        # Retrieve derivatives from gradients\n",
        "        dxt, da_prevt, dWaxt, dWaat, dbat = gradients[\"dxt\"], gradients[\"da_prev\"], gradients[\"dWax\"], gradients[\"dWaa\"], gradients[\"dba\"]\n",
        "        # Increment global derivatives w.r.t parameters by adding their derivative at time-step t\n",
        "        dx[:, :, t] = dxt\n",
        "        dWax += dWaxt\n",
        "        dWaa += dWaat\n",
        "        dba += dbat\n",
        "    # Set da0 to the gradient of a which has been backpropagated through all time-steps \n",
        "    da0 = da_prevt\n",
        "    ### END CODE HERE ###\n",
        "\n",
        "    # Store the gradients in a python dictionary\n",
        "    gradients = {\"dx\": dx, \"da0\": da0, \"dWax\": dWax, \"dWaa\": dWaa,\"dba\": dba}\n",
        "    \n",
        "    return gradients"
      ],
      "execution_count": 0,
      "outputs": []
    },
    {
      "metadata": {
        "id": "94ameZk2CUNR",
        "colab_type": "code",
        "colab": {
          "base_uri": "https://localhost:8080/",
          "height": 197
        },
        "outputId": "b2032ef7-f6a7-4f60-900e-ccde6c433003"
      },
      "cell_type": "code",
      "source": [
        "np.random.seed(1)\n",
        "x = np.random.randn(3,10,4)\n",
        "a0 = np.random.randn(5,10)\n",
        "Wax = np.random.randn(5,3)\n",
        "Waa = np.random.randn(5,5)\n",
        "Wya = np.random.randn(2,5)\n",
        "ba = np.random.randn(5,1)\n",
        "by = np.random.randn(2,1)\n",
        "parameters = {\"Wax\": Wax, \"Waa\": Waa, \"Wya\": Wya, \"ba\": ba, \"by\": by}\n",
        "a, y, caches = rnn_forward(x, a0, parameters)\n",
        "da = np.random.randn(5, 10, 4)\n",
        "gradients = rnn_backward(da, caches)\n",
        "\n",
        "print(\"gradients[\\\"dx\\\"][1][2] =\", gradients[\"dx\"][1][2])\n",
        "print(\"gradients[\\\"dx\\\"].shape =\", gradients[\"dx\"].shape)\n",
        "print(\"gradients[\\\"da0\\\"][2][3] =\", gradients[\"da0\"][2][3])\n",
        "print(\"gradients[\\\"da0\\\"].shape =\", gradients[\"da0\"].shape)\n",
        "print(\"gradients[\\\"dWax\\\"][3][1] =\", gradients[\"dWax\"][3][1])\n",
        "print(\"gradients[\\\"dWax\\\"].shape =\", gradients[\"dWax\"].shape)\n",
        "print(\"gradients[\\\"dWaa\\\"][1][2] =\", gradients[\"dWaa\"][1][2])\n",
        "print(\"gradients[\\\"dWaa\\\"].shape =\", gradients[\"dWaa\"].shape)\n",
        "print(\"gradients[\\\"dba\\\"][4] =\", gradients[\"dba\"][4])\n",
        "print(\"gradients[\\\"dba\\\"].shape =\", gradients[\"dba\"].shape)\n"
      ],
      "execution_count": 74,
      "outputs": [
        {
          "output_type": "stream",
          "text": [
            "gradients[\"dx\"][1][2] = [-2.07101689 -0.59255627  0.02466855  0.01483317]\n",
            "gradients[\"dx\"].shape = (3, 10, 4)\n",
            "gradients[\"da0\"][2][3] = -0.31494237512664996\n",
            "gradients[\"da0\"].shape = (5, 10)\n",
            "gradients[\"dWax\"][3][1] = 11.264104496527777\n",
            "gradients[\"dWax\"].shape = (5, 3)\n",
            "gradients[\"dWaa\"][1][2] = 2.303333126579893\n",
            "gradients[\"dWaa\"].shape = (5, 5)\n",
            "gradients[\"dba\"][4] = [-0.74747722]\n",
            "gradients[\"dba\"].shape = (5, 1)\n"
          ],
          "name": "stdout"
        }
      ]
    },
    {
      "metadata": {
        "id": "cTReIhO2Jx5g",
        "colab_type": "text"
      },
      "cell_type": "markdown",
      "source": [
        "## GRU Backward"
      ]
    },
    {
      "metadata": {
        "id": "cw2LCG32Ed9a",
        "colab_type": "code",
        "colab": {}
      },
      "cell_type": "code",
      "source": [
        "def gru_cell_backward(da_next, cache):\n",
        "    \"\"\"\n",
        "    Implements the backward pass for the RNN-cell (single time-step).\n",
        "\n",
        "    Arguments:\n",
        "    da_next -- Gradient of loss with respect to next hidden state\n",
        "    cache -- python dictionary containing useful values (output of rnn_cell_forward())\n",
        "\n",
        "    Returns:\n",
        "    gradients -- python dictionary containing:\n",
        "                        dx -- Gradients of input data, of shape (n_x, m)\n",
        "                        da_prev -- Gradients of previous hidden state, of shape (n_a, m)\n",
        "                        dWax -- Gradients of input-to-hidden weights, of shape (n_a, n_x)\n",
        "                        dWaa -- Gradients of hidden-to-hidden weights, of shape (n_a, n_a)\n",
        "                        dba -- Gradients of bias vector, of shape (n_a, 1)\n",
        "    \"\"\"\n",
        "    \n",
        "    # Retrieve values from cache\n",
        "    (a_next, c_next, c_prev, ut, rt, cct , xt, parameters) = cache\n",
        "    \n",
        "    # Retrieve parameters from \"parameters\"\n",
        "    Wu = parameters[\"Wu\"]\n",
        "    bu = parameters[\"bu\"]\n",
        "    Wr = parameters[\"Wr\"]\n",
        "    br = parameters[\"br\"]\n",
        "    Wc = parameters[\"Wc\"]\n",
        "    bc = parameters[\"bc\"]\n",
        "    Wy = parameters[\"Wy\"]\n",
        "    by = parameters[\"by\"]\n",
        "    n_x, m = xt.shape\n",
        "    n_c, _ = c_prev.shape\n",
        "    ### START CODE HERE ###\n",
        "    c_diff = (cct - c_prev)\n",
        "    cx = np.concatenate((c_prev, xt), axis = 0)\n",
        "    rcx = np.concatenate((c_prev * rt, xt), axis = 0)\n",
        "    c0 = np.concatenate((c_prev, np.zeros(xt.shape)), axis = 0)\n",
        "    r0 = np.concatenate((rt, np.zeros(xt.shape)), axis = 0)\n",
        "    dWu = (da_next * c_diff * ut * (1 - ut)).dot(cx.T)\n",
        "    dbu = np.sum(da_next * c_diff * ut * (1 - ut), axis = 1).reshape((-1, 1))\n",
        "    dWr = (da_next * ut * ( 1 - cct**2) * rt * (1 - rt) * Wc.dot(c0)).dot(cx.T) \n",
        "    dbr = np.sum(da_next * ut * ( 1 - cct**2) * rt * (1 - rt) * Wc.dot(c0), axis = 1).reshape((-1, 1))\n",
        "    dWc = (da_next * ut * (1 - cct**2)).dot(rcx.T)\n",
        "    dbc = np.sum(da_next * ut * (1 - cct**2), axis = 1).reshape((-1, 1))\n",
        "    da_prev = da_next * (1 - ut) + Wu[:,:n_c].T.dot(da_next * c_diff * ut * (1 - ut)) + da_next * ut * (1 - cct**2) * Wc.dot(r0) + Wr[:,:n_c].T.dot(da_next * ut * (1 - cct ** 2) * Wc.dot(c0) * rt * (1 - rt))\n",
        "    dxt = Wu[:,n_c:].T.dot(da_next * c_diff * ut * (1 - ut)) + Wc[:,n_c:].T.dot(da_next * ut * (1 - cct**2)) + Wr[:,n_c:].T.dot(da_next * ut * (1 - cct**2) * Wc.dot(c0) * rt * (1-rt))\n",
        "    ### END CODE HERE ###\n",
        "    \n",
        "    # Store the gradients in a python dictionary\n",
        "    gradients = {\"dxt\": dxt, \"da_prev\": da_prev, \"dc_prev\": da_prev, \"dWu\": dWu, \"dWr\": dWr, \"dWc\": dWc, \"dbc\": dbc, \"dbu\": dbu, \"dbr\": dbr}\n",
        "    \n",
        "    return gradients"
      ],
      "execution_count": 0,
      "outputs": []
    },
    {
      "metadata": {
        "id": "SbkLnA7HCilM",
        "colab_type": "code",
        "colab": {
          "base_uri": "https://localhost:8080/",
          "height": 197
        },
        "outputId": "951bec2c-1d7f-4bc7-e4ec-514606986fb1"
      },
      "cell_type": "code",
      "source": [
        "np.random.seed(1)\n",
        "xt = np.random.randn(3,10)\n",
        "c_prev = np.random.randn(5,10)\n",
        "Wu = np.random.randn(5, 5+3)\n",
        "bu = np.random.randn(5,1)\n",
        "Wr = np.random.randn(5, 5+3)\n",
        "br = np.random.randn(5,1)\n",
        "Wc = np.random.randn(5, 5+3)\n",
        "bc = np.random.randn(5,1)\n",
        "Wy = np.random.randn(2,5)\n",
        "by = np.random.randn(2,1)\n",
        "\n",
        "parameters = {\"Wu\": Wu, \"Wr\": Wr, \"Wc\": Wc, \"Wy\": Wy, \"bu\": bu, \"br\": br, \"bc\": bc, \"by\": by}\n",
        "\n",
        "c_next, yt, cache = gru_cell_forward(xt, c_prev, parameters)\n",
        "\n",
        "da_next = np.random.randn(5,10)\n",
        "gradients = gru_cell_backward(da_next, cache)\n",
        "print(\"gradients[\\\"dxt\\\"][1][2] =\", gradients[\"dxt\"][1][2])\n",
        "print(\"gradients[\\\"dxt\\\"].shape =\", gradients[\"dxt\"].shape)\n",
        "print(\"gradients[\\\"da_prev\\\"][2][3] =\", gradients[\"da_prev\"][2][3])\n",
        "print(\"gradients[\\\"da_prev\\\"].shape =\", gradients[\"da_prev\"].shape)\n",
        "print(\"gradients[\\\"dWu\\\"][3][1] =\", gradients[\"dWu\"][3][1])\n",
        "print(\"gradients[\\\"dWu\\\"].shape =\", gradients[\"dWu\"].shape)\n",
        "print(\"gradients[\\\"dWc\\\"][1][2] =\", gradients[\"dWc\"][1][2])\n",
        "print(\"gradients[\\\"dWc\\\"].shape =\", gradients[\"dWc\"].shape)\n",
        "print(\"gradients[\\\"dbr\\\"][4] =\", gradients[\"dbr\"][4])\n",
        "print(\"gradients[\\\"dbr\\\"].shape =\", gradients[\"dbr\"].shape)"
      ],
      "execution_count": 212,
      "outputs": [
        {
          "output_type": "stream",
          "text": [
            "gradients[\"dxt\"][1][2] = -0.5587102488376965\n",
            "gradients[\"dxt\"].shape = (3, 10)\n",
            "gradients[\"da_prev\"][2][3] = 0.07043422916503733\n",
            "gradients[\"da_prev\"].shape = (5, 10)\n",
            "gradients[\"dWu\"][3][1] = -0.0907624548994332\n",
            "gradients[\"dWu\"].shape = (5, 8)\n",
            "gradients[\"dWc\"][1][2] = -0.28268841181863846\n",
            "gradients[\"dWc\"].shape = (5, 8)\n",
            "gradients[\"dbr\"][4] = [0.08794573]\n",
            "gradients[\"dbr\"].shape = (5, 1)\n"
          ],
          "name": "stdout"
        }
      ]
    },
    {
      "metadata": {
        "id": "iAB6ESYPCiuw",
        "colab_type": "code",
        "colab": {}
      },
      "cell_type": "code",
      "source": [
        "def gru_backward(da, caches):\n",
        "    \"\"\"\n",
        "    Implement the backward pass for a RNN over an entire sequence of input data.\n",
        "\n",
        "    Arguments:\n",
        "    da -- Upstream gradients of all hidden states, of shape (n_a, m, T_x)\n",
        "    caches -- tuple containing information from the forward pass (rnn_forward)\n",
        "    \n",
        "    Returns:\n",
        "    gradients -- python dictionary containing:\n",
        "                        dx -- Gradient w.r.t. the input data, numpy-array of shape (n_x, m, T_x)\n",
        "                        da0 -- Gradient w.r.t the initial hidden state, numpy-array of shape (n_a, m)\n",
        "                        dWax -- Gradient w.r.t the input's weight matrix, numpy-array of shape (n_a, n_x)\n",
        "                        dWaa -- Gradient w.r.t the hidden state's weight matrix, numpy-arrayof shape (n_a, n_a)\n",
        "                        dba -- Gradient w.r.t the bias, of shape (n_a, 1)\n",
        "    \"\"\"\n",
        "        \n",
        "    ### START CODE HERE ###\n",
        "    \n",
        "     # Retrieve values from the first cache (t=1) of caches\n",
        "    (caches, x) = caches\n",
        "    (a_next, c_next, c_prev, ut, rt, cct , xt, parameters) = caches[0] \n",
        "    \n",
        "    # Retrieve dimensions from da's and x1's shapes \n",
        "    n_a, m, T_x = da.shape\n",
        "    n_x, m = xt.shape\n",
        "    \n",
        "    # initialize the gradients with the right sizes \n",
        "    dx = np.zeros(x.shape)\n",
        "    dWu = np.zeros(parameters['Wu'].shape)\n",
        "    dWr = np.zeros(parameters['Wr'].shape)\n",
        "    dWc = np.zeros(parameters['Wc'].shape)\n",
        "    dbu = np.zeros(parameters['bu'].shape)\n",
        "    dbr = np.zeros(parameters['br'].shape)\n",
        "    dbc = np.zeros(parameters['bc'].shape)\n",
        "    dc0 = np.zeros(c_prev.shape)\n",
        "    dc_prevt = np.zeros(c_prev.shape)\n",
        "    \n",
        "    # Loop through all the time steps\n",
        "    for t in reversed(range(T_x)):\n",
        "        # Compute gradients at time step t. Choose wisely the \"da_next\" and the \"cache\" to use in the backward propagation step.\n",
        "        gradients =  gru_cell_backward(da[:,:,t] + dc_prevt, caches[t])\n",
        "        # Retrieve derivatives from gradients\n",
        "        dxt, dc_prevt, dWut, dWrt, dWct, dbut, dbrt, dbct = gradients[\"dxt\"], gradients[\"dc_prev\"], gradients[\"dWu\"], gradients[\"dWr\"], gradients[\"dWc\"], gradients[\"dbu\"], gradients[\"dbr\"], gradients[\"dbc\"]\n",
        "        # Increment global derivatives w.r.t parameters by adding their derivative at time-step t\n",
        "        dx[:, :, t] = dxt\n",
        "        dWu += dWut\n",
        "        dWr += dWrt\n",
        "        dWc += dWct\n",
        "        dbu += dbut\n",
        "        dbr += dbrt\n",
        "        dbc += dbct\n",
        "    # Set da0 to the gradient of a which has been backpropagated through all time-steps \n",
        "    dc0 = dc_prevt\n",
        "    ### END CODE HERE ###\n",
        "\n",
        "    # Store the gradients in a python dictionary\n",
        "    gradients = {\"dx\": dx, \"dc0\": dc0, \"dWu\": dWu, \"dWr\": dWr, \"dWc\": dWc, \"dbc\": dbc, \"dbu\": dbu, \"dbr\": dbr}\n",
        "    \n",
        "    return gradients"
      ],
      "execution_count": 0,
      "outputs": []
    },
    {
      "metadata": {
        "id": "L0Y-XgVeCi1s",
        "colab_type": "code",
        "colab": {
          "base_uri": "https://localhost:8080/",
          "height": 215
        },
        "outputId": "51ea0cb8-6fdb-4a63-e99c-68f121a14c3e"
      },
      "cell_type": "code",
      "source": [
        "np.random.seed(1)\n",
        "x = np.random.randn(3,10,7)\n",
        "c0 = np.random.randn(5,10)\n",
        "Wu = np.random.randn(5, 5+3)\n",
        "bu = np.random.randn(5,1)\n",
        "Wr = np.random.randn(5, 5+3)\n",
        "br = np.random.randn(5,1)\n",
        "Wc = np.random.randn(5, 5+3)\n",
        "bc = np.random.randn(5,1)\n",
        "Wy = np.random.randn(2,5)\n",
        "by = np.random.randn(2,1)\n",
        "\n",
        "parameters = {\"Wr\": Wr, \"Wu\": Wu, \"Wc\": Wc, \"Wy\": Wy, \"br\": br, \"bu\": bu, \"bc\": bc, \"by\": by}\n",
        "\n",
        "y, c, caches = gru_forward(x, c0, parameters)\n",
        "\n",
        "da = np.random.randn(5, 10, 4)\n",
        "gradients = gru_backward(da, caches)\n",
        "\n",
        "print(\"gradients[\\\"dx\\\"][1][2] =\", gradients[\"dx\"][1][2])\n",
        "print(\"gradients[\\\"dx\\\"].shape =\", gradients[\"dx\"].shape)\n",
        "print(\"gradients[\\\"dc0\\\"][2][3] =\", gradients[\"dc0\"][2][3])\n",
        "print(\"gradients[\\\"dc0\\\"].shape =\", gradients[\"dc0\"].shape)\n",
        "print(\"gradients[\\\"dWu\\\"][3][1] =\", gradients[\"dWu\"][3][1])\n",
        "print(\"gradients[\\\"dWu\\\"].shape =\", gradients[\"dWu\"].shape)\n",
        "print(\"gradients[\\\"dWc\\\"][1][2] =\", gradients[\"dWc\"][1][2])\n",
        "print(\"gradients[\\\"dWc\\\"].shape =\", gradients[\"dWc\"].shape)\n",
        "print(\"gradients[\\\"dbr\\\"][4] =\", gradients[\"dbr\"][4])\n",
        "print(\"gradients[\\\"dbr\\\"].shape =\", gradients[\"dbr\"].shape)\n"
      ],
      "execution_count": 214,
      "outputs": [
        {
          "output_type": "stream",
          "text": [
            "gradients[\"dx\"][1][2] = [-0.53193461 -0.4208328  -0.507653   -0.54948361  0.          0.\n",
            "  0.        ]\n",
            "gradients[\"dx\"].shape = (3, 10, 7)\n",
            "gradients[\"dc0\"][2][3] = -2.464280256218576\n",
            "gradients[\"dc0\"].shape = (5, 10)\n",
            "gradients[\"dWu\"][3][1] = 1.6118495631921883\n",
            "gradients[\"dWu\"].shape = (5, 8)\n",
            "gradients[\"dWc\"][1][2] = 0.04836978742650893\n",
            "gradients[\"dWc\"].shape = (5, 8)\n",
            "gradients[\"dbr\"][4] = [0.77298005]\n",
            "gradients[\"dbr\"].shape = (5, 1)\n"
          ],
          "name": "stdout"
        }
      ]
    },
    {
      "metadata": {
        "id": "9BITY3cJKbDL",
        "colab_type": "text"
      },
      "cell_type": "markdown",
      "source": [
        "---\n",
        "# Sentiment Analysis"
      ]
    },
    {
      "metadata": {
        "id": "34COPz1XKepe",
        "colab_type": "code",
        "colab": {}
      },
      "cell_type": "code",
      "source": [
        "from tensorflow.keras.datasets import imdb\n",
        "from tensorflow.keras.preprocessing import sequence\n",
        "import matplotlib.pyplot as plt\n",
        "from sklearn.model_selection import train_test_split\n",
        "from tensorflow.keras.layers import SimpleRNN, LSTM, GRU\n",
        "from tensorflow.keras.models import Sequential\n",
        "from tensorflow.keras.layers import Dense, Activation, Dropout\n",
        "from tensorflow.keras.layers import Input\n",
        "from tensorflow.train import AdamOptimizer\n",
        "from tensorflow.keras.layers import Embedding\n",
        "import tensorflow as tf\n",
        "import numpy as np\n",
        "import os"
      ],
      "execution_count": 0,
      "outputs": []
    },
    {
      "metadata": {
        "id": "GVQECs1gLJiI",
        "colab_type": "code",
        "colab": {}
      },
      "cell_type": "code",
      "source": [
        "num_words = 2000\n",
        "(x_train, y_train), (x_test, y_test) = imdb.load_data(path=\"imdb.npz\", num_words = num_words)"
      ],
      "execution_count": 0,
      "outputs": []
    },
    {
      "metadata": {
        "id": "NfpTn7ztsTBo",
        "colab_type": "code",
        "colab": {
          "base_uri": "https://localhost:8080/",
          "height": 863
        },
        "outputId": "52b50da1-16ea-4317-b7bd-d22ec4d50e52"
      },
      "cell_type": "code",
      "source": [
        " x_test, x_val, y_test, y_val = train_test_split(x_test, y_test, test_size=0.5, random_state=1)\n",
        "print('training samples size : ', x_train.shape)\n",
        "print('test samples size : ', x_test.shape)\n",
        "print('validation samples size : ', x_val.shape)\n",
        "lens = [len(x) for x in x_train]\n",
        "plt.hist(lens, bins='auto')\n",
        "plt.title('Length of training examples histogram')\n",
        "plt.show()\n",
        "maxlen = 0\n",
        "maxlen = max(maxlen, np.max(lens))\n",
        "lens = [len(x) for x in x_test]\n",
        "plt.hist(lens, bins='auto')\n",
        "plt.title('Length of test examples histogram')\n",
        "plt.show()\n",
        "maxlen = max(maxlen, np.max(lens))\n",
        "lens = [len(x) for x in x_val]\n",
        "plt.hist(lens, bins='auto')\n",
        "plt.title('Length of validation examples histogram')\n",
        "plt.show()\n",
        "maxlen = max(maxlen, np.max(lens))"
      ],
      "execution_count": 22,
      "outputs": [
        {
          "output_type": "stream",
          "text": [
            "training samples size :  (25000,)\n",
            "test samples size :  (12500,)\n",
            "validation samples size :  (12500,)\n"
          ],
          "name": "stdout"
        },
        {
          "output_type": "display_data",
          "data": {
            "image/png": "[encoded data removed]",
            "text/plain": [
              "<Figure size 432x288 with 1 Axes>"
            ]
          },
          "metadata": {
            "tags": []
          }
        },
        {
          "output_type": "display_data",
          "data": {
            "image/png": "[encoded data removed]",
            "text/plain": [
              "<Figure size 432x288 with 1 Axes>"
            ]
          },
          "metadata": {
            "tags": []
          }
        },
        {
          "output_type": "display_data",
          "data": {
            "image/png": "[encoded data removed]",
            "text/plain": [
              "<Figure size 432x288 with 1 Axes>"
            ]
          },
          "metadata": {
            "tags": []
          }
        }
      ]
    },
    {
      "metadata": {
        "id": "M-tUCFY6sUhh",
        "colab_type": "code",
        "colab": {
          "base_uri": "https://localhost:8080/",
          "height": 53
        },
        "outputId": "053abb06-5aad-4eec-a794-bb011cebe293"
      },
      "cell_type": "code",
      "source": [
        "print('current max : ', maxlen)\n",
        "maxlen = 500\n",
        "print('our max : ', maxlen)\n",
        "x_train = sequence.pad_sequences(x_train, maxlen=maxlen)\n",
        "x_test = sequence.pad_sequences(x_test, maxlen=maxlen)\n",
        "x_val = sequence.pad_sequences(x_val, maxlen=maxlen)"
      ],
      "execution_count": 23,
      "outputs": [
        {
          "output_type": "stream",
          "text": [
            "current max :  2494\n",
            "our max :  500\n"
          ],
          "name": "stdout"
        }
      ]
    },
    {
      "metadata": {
        "id": "hGiS1lJPsYae",
        "colab_type": "code",
        "colab": {
          "base_uri": "https://localhost:8080/",
          "height": 71
        },
        "outputId": "6d4b1a50-7b8f-4177-afd0-fad7892551e7"
      },
      "cell_type": "code",
      "source": [
        "print('training samples size : ', x_train.shape)\n",
        "print('test samples size : ', x_test.shape)\n",
        "print('validation samples size : ', x_val.shape)"
      ],
      "execution_count": 24,
      "outputs": [
        {
          "output_type": "stream",
          "text": [
            "training samples size :  (25000, 500)\n",
            "test samples size :  (12500, 500)\n",
            "validation samples size :  (12500, 500)\n"
          ],
          "name": "stdout"
        }
      ]
    },
    {
      "metadata": {
        "id": "Vj747i39zae6",
        "colab_type": "code",
        "colab": {
          "base_uri": "https://localhost:8080/",
          "height": 35
        },
        "outputId": "4393be6b-67bf-4b69-cc79-3a1fa7349db7"
      },
      "cell_type": "code",
      "source": [
        "try:\n",
        "    device_name = os.environ['COLAB_TPU_ADDR']\n",
        "    TPU_ADDRESS = 'grpc://' + device_name\n",
        "    print('Found TPU at: {}'.format(TPU_ADDRESS))\n",
        "\n",
        "except KeyError:\n",
        "    print('TPU not found')\n",
        "\n",
        "batch_size = 64\n",
        "epochs = 3\n",
        "learning_rate = 0.001"
      ],
      "execution_count": 25,
      "outputs": [
        {
          "output_type": "stream",
          "text": [
            "TPU not found\n"
          ],
          "name": "stdout"
        }
      ]
    },
    {
      "metadata": {
        "id": "GvemDi9-MKKv",
        "colab_type": "code",
        "colab": {}
      },
      "cell_type": "code",
      "source": [
        "def RnnModel(input_shape):\n",
        "    model = Sequential()\n",
        "    model.add(Embedding(num_words, 32, input_length=input_shape[1]))\n",
        "    model.add(Dropout(0.2))\n",
        "    model.add(SimpleRNN(1, activation = 'sigmoid'))\n",
        "    return model\n",
        "def LstmModel(input_shape):\n",
        "    model = Sequential()\n",
        "    model.add(Embedding(num_words, 32, input_length=input_shape[1]))\n",
        "    model.add(Dropout(0.2))\n",
        "    model.add(LSTM(1, activation = 'sigmoid'))\n",
        "    return model\n",
        "def GruModel(input_shape):\n",
        "    model = Sequential()\n",
        "    model.add(Embedding(num_words, 32, input_length=input_shape[1]))\n",
        "    model.add(Dropout(0.2))\n",
        "    model.add(GRU(1, activation = 'sigmoid'))\n",
        "    return model\n",
        "def DRnnModel(input_shape):\n",
        "    model = Sequential()\n",
        "    model.add(Embedding(num_words, 32, input_length=input_shape[1]))\n",
        "    model.add(Dropout(0.2))\n",
        "    model.add(SimpleRNN(100))\n",
        "    model.add(Dropout(0.2))\n",
        "    model.add(Dense(1,kernel_initializer = 'normal'))\n",
        "    model.add(Activation('sigmoid'))\n",
        "    return model\n",
        "def DLstmModel(input_shape):\n",
        "    model = Sequential()\n",
        "    model.add(Embedding(num_words, 32, input_length=input_shape[1]))\n",
        "    model.add(Dropout(0.2))\n",
        "    model.add(LSTM(100))\n",
        "    model.add(Dropout(0.2))\n",
        "    model.add(Dense(1, kernel_initializer = 'normal'))\n",
        "    model.add(Activation('sigmoid'))\n",
        "    return model\n",
        "def DGruModel(input_shape):\n",
        "    model = Sequential()\n",
        "    model.add(Embedding(num_words, 32, input_length=input_shape[1]))\n",
        "    model.add(Dropout(0.2))\n",
        "    model.add(GRU(100))\n",
        "    model.add(Dropout(0.2))\n",
        "    model.add(Dense(1, kernel_initializer = 'normal'))\n",
        "    model.add(Activation('sigmoid'))\n",
        "    return model\n",
        "def test_model(train_X, train_y, val_X, val_y, test_X, test_y, Model, epochs=150, batch_size = 256, verbose = 0, learning_rate = 0.001):\n",
        "  tup = ()\n",
        "  tup = tup + (batch_size, )\n",
        "  tup = tup + train_X.shape[1:]\n",
        "  model = Model(tup)\n",
        "  model.compile(loss='binary_crossentropy', metrics=['accuracy'], optimizer=AdamOptimizer(learning_rate))\n",
        "  model.summary()\n",
        "#   model = tf.contrib.tpu.keras_to_tpu_model(\n",
        "#     model,\n",
        "#     strategy=tf.contrib.tpu.TPUDistributionStrategy(\n",
        "#         tf.contrib.cluster_resolver.TPUClusterResolver(TPU_ADDRESS)))\n",
        "  history = model.fit(train_X, train_y, batch_size=batch_size, epochs=epochs, validation_data=(val_X, val_y),verbose = verbose)\n",
        "  # Plot training & validation accuracy values\n",
        "  plt.plot(history.history['acc'])\n",
        "  plt.plot(history.history['val_acc'])\n",
        "  plt.title('Model accuracy')\n",
        "  plt.ylabel('Accuracy')\n",
        "  plt.xlabel('Epoch')\n",
        "  plt.legend(['Train', 'Test'], loc='upper left')\n",
        "  plt.show()\n",
        "  # Plot training & validation loss values\n",
        "  plt.plot(history.history['loss'])\n",
        "  plt.plot(history.history['val_loss'])\n",
        "  plt.title('Model loss')\n",
        "  plt.ylabel('Loss')\n",
        "  plt.xlabel('Epoch')\n",
        "  plt.legend(['Train', 'Test'], loc='upper left')\n",
        "  plt.show()\n",
        "  print('Last validation loss : ', history.history['val_loss'][-1], ' | last training loss : ', history.history['loss'][-1])\n",
        "  print('Last validation accuracy : ', history.history['val_acc'][-1], ' | last training accuracy : ', history.history['acc'][-1])\n",
        "  \n",
        "  score, accuracy = model.evaluate(test_X, test_y, batch_size=batch_size, verbose=0)\n",
        "  print(\"Test fraction correct (NN-Score) = {:.2f}\".format(score))\n",
        "  print(\"Test fraction correct (NN-Accuracy) = {:.2f}\".format(accuracy))"
      ],
      "execution_count": 0,
      "outputs": []
    },
    {
      "metadata": {
        "id": "uKx4OSQPMbW6",
        "colab_type": "code",
        "colab": {
          "base_uri": "https://localhost:8080/",
          "height": 1023
        },
        "outputId": "c058aea9-0973-415c-8cdd-04191ba9113f"
      },
      "cell_type": "code",
      "source": [
        "print('Simple Rnn model')\n",
        "test_model(x_train, y_train, x_val, y_val, x_test, y_test, RnnModel, epochs=epochs, batch_size = batch_size, verbose = 1)"
      ],
      "execution_count": 27,
      "outputs": [
        {
          "output_type": "stream",
          "text": [
            "Simple Rnn model\n",
            "_________________________________________________________________\n",
            "Layer (type)                 Output Shape              Param #   \n",
            "=================================================================\n",
            "embedding_4 (Embedding)      (None, 500, 32)           64000     \n",
            "_________________________________________________________________\n",
            "dropout_4 (Dropout)          (None, 500, 32)           0         \n",
            "_________________________________________________________________\n",
            "simple_rnn_4 (SimpleRNN)     (None, 1)                 34        \n",
            "=================================================================\n",
            "Total params: 64,034\n",
            "Trainable params: 64,034\n",
            "Non-trainable params: 0\n",
            "_________________________________________________________________\n",
            "Train on 25000 samples, validate on 12500 samples\n",
            "Epoch 1/3\n",
            "25000/25000 [==============================] - 180s 7ms/sample - loss: 0.6856 - acc: 0.5340 - val_loss: 0.6688 - val_acc: 0.5692\n",
            "Epoch 2/3\n",
            "25000/25000 [==============================] - 179s 7ms/sample - loss: 0.6520 - acc: 0.5931 - val_loss: 0.6655 - val_acc: 0.5748\n",
            "Epoch 3/3\n",
            "25000/25000 [==============================] - 177s 7ms/sample - loss: 0.6396 - acc: 0.6058 - val_loss: 0.6704 - val_acc: 0.5729\n"
          ],
          "name": "stdout"
        },
        {
          "output_type": "display_data",
          "data": {
            "image/png": "[encoded data removed]",
            "text/plain": [
              "<Figure size 432x288 with 1 Axes>"
            ]
          },
          "metadata": {
            "tags": []
          }
        },
        {
          "output_type": "display_data",
          "data": {
            "image/png": "[encoded data removed]",
            "text/plain": [
              "<Figure size 432x288 with 1 Axes>"
            ]
          },
          "metadata": {
            "tags": []
          }
        },
        {
          "output_type": "stream",
          "text": [
            "Last validation loss :  0.6703737602424622  | last training loss :  0.6395859066390991\n",
            "Last validation accuracy :  0.57288  | last training accuracy :  0.60584\n",
            "Test fraction correct (NN-Score) = 0.67\n",
            "Test fraction correct (NN-Accuracy) = 0.57\n"
          ],
          "name": "stdout"
        }
      ]
    },
    {
      "metadata": {
        "id": "pe-o4YI_u8WD",
        "colab_type": "code",
        "colab": {
          "base_uri": "https://localhost:8080/",
          "height": 1023
        },
        "outputId": "4e6b338f-2766-4ba6-b3b0-83510118c75c"
      },
      "cell_type": "code",
      "source": [
        "print('Simple Lstm model')\n",
        "test_model(x_train, y_train, x_val, y_val, x_test, y_test, LstmModel, epochs=epochs, batch_size = batch_size, verbose = 1)"
      ],
      "execution_count": 28,
      "outputs": [
        {
          "output_type": "stream",
          "text": [
            "Simple Lstm model\n",
            "_________________________________________________________________\n",
            "Layer (type)                 Output Shape              Param #   \n",
            "=================================================================\n",
            "embedding_5 (Embedding)      (None, 500, 32)           64000     \n",
            "_________________________________________________________________\n",
            "dropout_5 (Dropout)          (None, 500, 32)           0         \n",
            "_________________________________________________________________\n",
            "lstm (LSTM)                  (None, 1)                 136       \n",
            "=================================================================\n",
            "Total params: 64,136\n",
            "Trainable params: 64,136\n",
            "Non-trainable params: 0\n",
            "_________________________________________________________________\n",
            "Train on 25000 samples, validate on 12500 samples\n",
            "Epoch 1/3\n",
            "25000/25000 [==============================] - 479s 19ms/sample - loss: 0.6708 - acc: 0.5871 - val_loss: 0.6214 - val_acc: 0.6792\n",
            "Epoch 2/3\n",
            "25000/25000 [==============================] - 477s 19ms/sample - loss: 0.5896 - acc: 0.7112 - val_loss: 0.5833 - val_acc: 0.7149\n",
            "Epoch 3/3\n",
            "25000/25000 [==============================] - 482s 19ms/sample - loss: 0.5413 - acc: 0.7586 - val_loss: 0.5456 - val_acc: 0.7470\n"
          ],
          "name": "stdout"
        },
        {
          "output_type": "display_data",
          "data": {
            "image/png": "[encoded data removed]",
            "text/plain": [
              "<Figure size 432x288 with 1 Axes>"
            ]
          },
          "metadata": {
            "tags": []
          }
        },
        {
          "output_type": "display_data",
          "data": {
            "image/png": "[encoded data removed]",
            "text/plain": [
              "<Figure size 432x288 with 1 Axes>"
            ]
          },
          "metadata": {
            "tags": []
          }
        },
        {
          "output_type": "stream",
          "text": [
            "Last validation loss :  0.5455560908126831  | last training loss :  0.5412869456672669\n",
            "Last validation accuracy :  0.74704  | last training accuracy :  0.75864\n",
            "Test fraction correct (NN-Score) = 0.54\n",
            "Test fraction correct (NN-Accuracy) = 0.75\n"
          ],
          "name": "stdout"
        }
      ]
    },
    {
      "metadata": {
        "id": "bI57-tMQ6pZS",
        "colab_type": "code",
        "colab": {
          "base_uri": "https://localhost:8080/",
          "height": 1023
        },
        "outputId": "b16cd84f-ea52-4994-8c8a-af9b2252dc81"
      },
      "cell_type": "code",
      "source": [
        "print('Simple Gru model')\n",
        "test_model(x_train, y_train, x_val, y_val, x_test, y_test, GruModel, epochs=epochs, batch_size = batch_size, verbose = 1)"
      ],
      "execution_count": 29,
      "outputs": [
        {
          "output_type": "stream",
          "text": [
            "Simple Gru model\n",
            "_________________________________________________________________\n",
            "Layer (type)                 Output Shape              Param #   \n",
            "=================================================================\n",
            "embedding_6 (Embedding)      (None, 500, 32)           64000     \n",
            "_________________________________________________________________\n",
            "dropout_6 (Dropout)          (None, 500, 32)           0         \n",
            "_________________________________________________________________\n",
            "gru (GRU)                    (None, 1)                 102       \n",
            "=================================================================\n",
            "Total params: 64,102\n",
            "Trainable params: 64,102\n",
            "Non-trainable params: 0\n",
            "_________________________________________________________________\n",
            "Train on 25000 samples, validate on 12500 samples\n",
            "Epoch 1/3\n",
            "25000/25000 [==============================] - 411s 16ms/sample - loss: 0.6645 - acc: 0.6028 - val_loss: 0.6319 - val_acc: 0.6370\n",
            "Epoch 2/3\n",
            "25000/25000 [==============================] - 406s 16ms/sample - loss: 0.6015 - acc: 0.6693 - val_loss: 0.5978 - val_acc: 0.6608\n",
            "Epoch 3/3\n",
            "25000/25000 [==============================] - 407s 16ms/sample - loss: 0.5530 - acc: 0.7107 - val_loss: 0.5618 - val_acc: 0.7018\n"
          ],
          "name": "stdout"
        },
        {
          "output_type": "display_data",
          "data": {
            "image/png": "[encoded data removed]",
            "text/plain": [
              "<Figure size 432x288 with 1 Axes>"
            ]
          },
          "metadata": {
            "tags": []
          }
        },
        {
          "output_type": "display_data",
          "data": {
            "image/png": "[encoded data removed]",
            "text/plain": [
              "<Figure size 432x288 with 1 Axes>"
            ]
          },
          "metadata": {
            "tags": []
          }
        },
        {
          "output_type": "stream",
          "text": [
            "Last validation loss :  0.5618470436668396  | last training loss :  0.553029577217102\n",
            "Last validation accuracy :  0.70184  | last training accuracy :  0.71068\n",
            "Test fraction correct (NN-Score) = 0.56\n",
            "Test fraction correct (NN-Accuracy) = 0.71\n"
          ],
          "name": "stdout"
        }
      ]
    },
    {
      "metadata": {
        "id": "gTOVUXrH6pe5",
        "colab_type": "code",
        "colab": {
          "base_uri": "https://localhost:8080/",
          "height": 1131
        },
        "outputId": "ac3f945b-ea9e-4adc-e407-e3d24cce91c6"
      },
      "cell_type": "code",
      "source": [
        "print('Rnn model with final dense layer')\n",
        "test_model(x_train, y_train, x_val, y_val, x_test, y_test, DRnnModel, epochs=epochs, batch_size = batch_size, verbose = 1)"
      ],
      "execution_count": 30,
      "outputs": [
        {
          "output_type": "stream",
          "text": [
            "Rnn model with final dense layer\n",
            "_________________________________________________________________\n",
            "Layer (type)                 Output Shape              Param #   \n",
            "=================================================================\n",
            "embedding_7 (Embedding)      (None, 500, 32)           64000     \n",
            "_________________________________________________________________\n",
            "dropout_7 (Dropout)          (None, 500, 32)           0         \n",
            "_________________________________________________________________\n",
            "simple_rnn_5 (SimpleRNN)     (None, 100)               13300     \n",
            "_________________________________________________________________\n",
            "dropout_8 (Dropout)          (None, 100)               0         \n",
            "_________________________________________________________________\n",
            "dense (Dense)                (None, 1)                 101       \n",
            "_________________________________________________________________\n",
            "activation (Activation)      (None, 1)                 0         \n",
            "=================================================================\n",
            "Total params: 77,401\n",
            "Trainable params: 77,401\n",
            "Non-trainable params: 0\n",
            "_________________________________________________________________\n",
            "Train on 25000 samples, validate on 12500 samples\n",
            "Epoch 1/3\n",
            "25000/25000 [==============================] - 172s 7ms/sample - loss: 0.6912 - acc: 0.5224 - val_loss: 0.6675 - val_acc: 0.5827\n",
            "Epoch 2/3\n",
            "25000/25000 [==============================] - 171s 7ms/sample - loss: 0.6281 - acc: 0.6416 - val_loss: 0.6467 - val_acc: 0.6160\n",
            "Epoch 3/3\n",
            "25000/25000 [==============================] - 168s 7ms/sample - loss: 0.6552 - acc: 0.5978 - val_loss: 0.6378 - val_acc: 0.6251\n"
          ],
          "name": "stdout"
        },
        {
          "output_type": "display_data",
          "data": {
            "image/png": "[encoded data removed]",
            "text/plain": [
              "<Figure size 432x288 with 1 Axes>"
            ]
          },
          "metadata": {
            "tags": []
          }
        },
        {
          "output_type": "display_data",
          "data": {
            "image/png": "[encoded data removed]",
            "text/plain": [
              "<Figure size 432x288 with 1 Axes>"
            ]
          },
          "metadata": {
            "tags": []
          }
        },
        {
          "output_type": "stream",
          "text": [
            "Last validation loss :  0.6377987948989868  | last training loss :  0.6551706651687622\n",
            "Last validation accuracy :  0.62512  | last training accuracy :  0.59776\n",
            "Test fraction correct (NN-Score) = 0.64\n",
            "Test fraction correct (NN-Accuracy) = 0.62\n"
          ],
          "name": "stdout"
        }
      ]
    },
    {
      "metadata": {
        "id": "nxmf6btq61Lh",
        "colab_type": "code",
        "colab": {}
      },
      "cell_type": "code",
      "source": [
        ""
      ],
      "execution_count": 0,
      "outputs": []
    }
  ]
}